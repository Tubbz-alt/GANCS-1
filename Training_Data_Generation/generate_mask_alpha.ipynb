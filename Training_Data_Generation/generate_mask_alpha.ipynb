{
 "cells": [
  {
   "cell_type": "code",
   "execution_count": 2,
   "metadata": {
    "collapsed": false
   },
   "outputs": [],
   "source": [
    "import matplotlib\n",
    "import numpy as np\n",
    "import matplotlib.pyplot as plt\n",
    "%matplotlib inline "
   ]
  },
  {
   "cell_type": "code",
   "execution_count": 3,
   "metadata": {
    "collapsed": true
   },
   "outputs": [],
   "source": [
    "def getMask(size=[128,128], porder = 5.0, bias = 0.1, acs = 3, seed = 0, axis_undersample=1, mute=0):\n",
    "    # init\n",
    "    mask = np.zeros(size)\n",
    "    np.random.seed(seed)\n",
    "    # gen random mask\n",
    "    for i in range(size[1]):\n",
    "        x = (i-size[1]/2.0)/(size[1]/2.0)\n",
    "        p = np.random.rand() \n",
    "        if p <= abs(x)**porder + bias:\n",
    "            if axis_undersample == 0:\n",
    "                mask[i,:]=1\n",
    "            else:\n",
    "                mask[:,i]=1\n",
    "    # acs                \n",
    "    if axis_undersample == 0:\n",
    "        mask[:(acs+1)/2,:]=1\n",
    "        mask[-acs/2:,:]=1\n",
    "    else:\n",
    "        mask[:,:(acs+1)/2]=1\n",
    "        mask[:,-acs/2:]=1\n",
    "\n",
    "    # compute reduction\n",
    "    r_factor = len(mask.flatten())/sum(mask.flatten())\n",
    "    if not mute:\n",
    "        print('gen mask for R-factor={0:.4f}'.format(r_factor))\n",
    "\n",
    "    # use tf\n",
    "    return mask, r_factor"
   ]
  },
  {
   "cell_type": "code",
   "execution_count": 4,
   "metadata": {
    "collapsed": false
   },
   "outputs": [
    {
     "name": "stdout",
     "output_type": "stream",
     "text": [
      "gen mask for R-factor=5.3333\n",
      "(5.333333333333333, (array([  0,   1,   2,   3,   4,   5,   6,   9,  14,  15,  16,  24,  26,\n",
      "        34,  43,  53,  67,  69,  75,  82,  87,  97,  99, 126, 159, 166,\n",
      "       171, 173, 179, 198, 204, 205, 214, 231, 233, 234, 238, 241, 243,\n",
      "       245, 247, 248, 249, 250, 252, 253, 254, 255]),))\n"
     ]
    }
   ],
   "source": [
    "mask, r_factor = getMask(size=[256,256], porder=10)\n",
    "print(r_factor, np.where(mask[0,:]))"
   ]
  },
  {
   "cell_type": "code",
   "execution_count": 5,
   "metadata": {
    "collapsed": true
   },
   "outputs": [],
   "source": [
    "#  generate mask based on alpha\n",
    "def generate_mask_alpha(size=[128,128], r_factor_designed=5.0, r_alpha=3, axis_undersample=1,\n",
    "                        acs=3, seed=0, mute=0):\n",
    "    # init\n",
    "    mask = np.zeros(size)\n",
    "    if seed>=0:\n",
    "        np.random.seed(seed)\n",
    "    # get samples\n",
    "    num_phase_encode = size[axis_undersample]\n",
    "    num_phase_sampled = int(np.floor(num_phase_encode/r_factor_designed))\n",
    "    # coordinate\n",
    "    coordinate_normalized = np.array(xrange(num_phase_encode))\n",
    "    coordinate_normalized = np.abs(coordinate_normalized-num_phase_encode/2)/(num_phase_encode/2.0)\n",
    "    prob_sample = coordinate_normalized**r_alpha\n",
    "    prob_sample = prob_sample/sum(prob_sample)\n",
    "    # sample\n",
    "    index_sample = np.random.choice(num_phase_encode, size=num_phase_sampled, \n",
    "                                    replace=False, p=prob_sample)\n",
    "    # sample                \n",
    "    if axis_undersample == 0:\n",
    "        mask[index_sample,:]=1\n",
    "    else:\n",
    "        mask[:,index_sample]=1\n",
    "\n",
    "    # acs                \n",
    "    if axis_undersample == 0:\n",
    "        mask[:(acs+1)/2,:]=1\n",
    "        mask[-acs/2:,:]=1\n",
    "    else:\n",
    "        mask[:,:(acs+1)/2]=1\n",
    "        mask[:,-acs/2:]=1\n",
    "\n",
    "    # compute reduction\n",
    "    r_factor = len(mask.flatten())/sum(mask.flatten())\n",
    "    if not mute:\n",
    "        print('gen mask size of {1} for R-factor={0:.4f}'.format(r_factor, mask.shape))\n",
    "        print(num_phase_encode, num_phase_sampled, np.where(mask[0,:]))\n",
    "\n",
    "    return mask, r_factor"
   ]
  },
  {
   "cell_type": "code",
   "execution_count": 32,
   "metadata": {
    "collapsed": false
   },
   "outputs": [
    {
     "name": "stdout",
     "output_type": "stream",
     "text": [
      "gen mask size of (128, 128) for R-factor=4.5714\n",
      "(128, 25, (array([  0,   1,   9,  12,  18,  21,  22,  24,  26,  29,  30,  37,  41,\n",
      "        50,  58,  63,  74,  77,  81,  90,  95, 105, 110, 113, 117, 118,\n",
      "       126, 127]),))\n"
     ]
    }
   ],
   "source": [
    "mask,r_factor=generate_mask_alpha(size=[128,128], r_factor_designed=5.0, \n",
    "                                  r_alpha=0.1,seed=-1)"
   ]
  },
  {
   "cell_type": "code",
   "execution_count": 33,
   "metadata": {
    "collapsed": false
   },
   "outputs": [
    {
     "data": {
      "text/plain": [
       "<matplotlib.image.AxesImage at 0x114164290>"
      ]
     },
     "execution_count": 33,
     "metadata": {},
     "output_type": "execute_result"
    },
    {
     "data": {
      "image/png": "[encoded data removed]",
      "text/plain": [
       "<matplotlib.figure.Figure at 0x113ff0d10>"
      ]
     },
     "metadata": {},
     "output_type": "display_data"
    }
   ],
   "source": [
    "plt.imshow(mask)"
   ]
  },
  {
   "cell_type": "code",
   "execution_count": 21,
   "metadata": {
    "collapsed": false
   },
   "outputs": [
    {
     "data": {
      "text/plain": [
       "<matplotlib.image.AxesImage at 0x113819a50>"
      ]
     },
     "execution_count": 21,
     "metadata": {},
     "output_type": "execute_result"
    },
    {
     "data": {
      "image/png": "[encoded data removed]",
      "text/plain": [
       "<matplotlib.figure.Figure at 0x1136b0710>"
      ]
     },
     "metadata": {},
     "output_type": "display_data"
    }
   ],
   "source": [
    "plt.imshow(mask)"
   ]
  },
  {
   "cell_type": "code",
   "execution_count": null,
   "metadata": {
    "collapsed": true
   },
   "outputs": [],
   "source": []
  }
 ],
 "metadata": {
  "kernelspec": {
   "display_name": "Python 2",
   "language": "python",
   "name": "python2"
  }
 },
 "nbformat": 4,
 "nbformat_minor": 0
}
